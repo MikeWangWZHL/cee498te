{
 "cells": [
  {
   "cell_type": "markdown",
   "metadata": {},
   "source": [
    "# Using solvers in Python \n",
    "\n",
    "This note will cover how to use two types of solvers:  root finders and minimizers."
   ]
  },
  {
   "cell_type": "markdown",
   "metadata": {},
   "source": [
    "## Root finding"
   ]
  },
  {
   "cell_type": "markdown",
   "metadata": {},
   "source": [
    "You have a function\n",
    "\n",
    "$$\n",
    "f(x)=\\tan(x-g) - x^2 + v\n",
    "$$\n",
    "with $g = 1,v=1.8$.\n",
    "\n",
    "Plot the function"
   ]
  },
  {
   "cell_type": "code",
   "execution_count": 1,
   "metadata": {},
   "outputs": [
    {
     "data": {
      "text/plain": [
       "[<matplotlib.lines.Line2D at 0x256720c4f70>]"
      ]
     },
     "execution_count": 1,
     "metadata": {},
     "output_type": "execute_result"
    },
    {
     "data": {
      "image/png": "[encoded data removed]",
      "text/plain": [
       "<Figure size 432x288 with 1 Axes>"
      ]
     },
     "metadata": {
      "needs_background": "light"
     },
     "output_type": "display_data"
    }
   ],
   "source": [
    "import matplotlib.pyplot as plt\n",
    "import numpy as np\n",
    "g = 1\n",
    "v=1.8\n",
    "f = lambda x: np.tan((x-g)) - x**2 + v\n",
    "\n",
    "xs = np.linspace(-.2,2,90) #plot 30 xs from 0.02 to 8\n",
    "ys = f(xs)\n",
    "plt.plot(xs,ys)"
   ]
  },
  {
   "cell_type": "markdown",
   "metadata": {},
   "source": [
    "We can see the function has a root somewhere close to zero and another one out around 1.5. Let's calculate the second root."
   ]
  },
  {
   "cell_type": "code",
   "execution_count": 78,
   "metadata": {},
   "outputs": [
    {
     "name": "stdout",
     "output_type": "stream",
     "text": [
      "      converged: True\n",
      "           flag: 'converged'\n",
      " function_calls: 7\n",
      "     iterations: 6\n",
      "           root: 1.5561478548711563\n",
      "1.5561478548711563\n",
      "-8.770761894538737e-14\n"
     ]
    }
   ],
   "source": [
    "from scipy.optimize import root_scalar #this works only for scalar functions\n",
    "res = root_scalar(f,x0=1.5,bracket=(1.0,2.0))\n",
    "print(res)\n",
    "print(res.root)\n",
    "print(f(res.root)) #this is about zero"
   ]
  },
  {
   "cell_type": "markdown",
   "metadata": {},
   "source": [
    "## 1-D minimization\n",
    "Suppose you have a complication function like\n",
    "\n",
    "$$\n",
    "f(x)=x \\alpha + \\frac{\\beta}{x} + w^{-x}x\n",
    "$$\n",
    "with $\\alpha = 0.5,\\beta=2.0,w=2$.\n",
    "\n",
    "Plot the function"
   ]
  },
  {
   "cell_type": "code",
   "execution_count": 3,
   "metadata": {},
   "outputs": [
    {
     "data": {
      "text/plain": [
       "[<matplotlib.lines.Line2D at 0x256721cc340>]"
      ]
     },
     "execution_count": 3,
     "metadata": {},
     "output_type": "execute_result"
    },
    {
     "data": {
      "image/png": "[encoded data removed]",
      "text/plain": [
       "<Figure size 432x288 with 1 Axes>"
      ]
     },
     "metadata": {
      "needs_background": "light"
     },
     "output_type": "display_data"
    }
   ],
   "source": [
    "import matplotlib.pyplot as plt\n",
    "import numpy as np\n",
    "α = 0.5\n",
    "β = 2.0\n",
    "w = 2\n",
    "f = lambda x: α*x + β/x + w**(-x)*x\n",
    "\n",
    "xs = np.linspace(0.2,8,50) #plot 30 xs from 0.02 to 8\n",
    "ys = f(xs)\n",
    "plt.plot(xs,ys)"
   ]
  },
  {
   "cell_type": "markdown",
   "metadata": {},
   "source": [
    "We can see it has some kind of minimum near 2. Suppose we want to calculate the minimum."
   ]
  },
  {
   "cell_type": "markdown",
   "metadata": {},
   "source": [
    "One way is to use the ```minimize_scalar``` function from the ```scipy.optimize``` library. This works if we're doing a 1-D function."
   ]
  },
  {
   "cell_type": "code",
   "execution_count": 16,
   "metadata": {},
   "outputs": [
    {
     "name": "stdout",
     "output_type": "stream",
     "text": [
      "     fun: 2.486607426790852\n",
      " message: 'Solution found.'\n",
      "    nfev: 10\n",
      "  status: 0\n",
      " success: True\n",
      "       x: 2.295371924421727\n",
      "2.295371924421727\n"
     ]
    }
   ],
   "source": [
    "from scipy.optimize import minimize_scalar\n",
    "res = minimize_scalar(lambda x: f(x), bounds=(.5,3),method='bounded')\n",
    "print(res)\n",
    "print(res.x)"
   ]
  },
  {
   "cell_type": "markdown",
   "metadata": {},
   "source": [
    "Another way is to use the ``minimize`` function, which can be used for multivariate minimization (we'll use this one more later)."
   ]
  },
  {
   "cell_type": "code",
   "execution_count": 57,
   "metadata": {},
   "outputs": [
    {
     "name": "stdout",
     "output_type": "stream",
     "text": [
      "      fun: 2.4866074267908447\n",
      " hess_inv: array([[3.65556255]])\n",
      "      jac: array([-5.96046448e-08])\n",
      "  message: 'Optimization terminated successfully.'\n",
      "     nfev: 18\n",
      "      nit: 5\n",
      "     njev: 6\n",
      "   status: 0\n",
      "  success: True\n",
      "        x: array([2.29537204])\n",
      "2.2953720361427346\n"
     ]
    }
   ],
   "source": [
    "from scipy.optimize import minimize\n",
    "res = minimize(lambda x: f(x[0]), x0=[2])\n",
    "print(res)\n",
    "print(res.x[0])\n",
    "# so the minimum is about 2.3"
   ]
  },
  {
   "cell_type": "markdown",
   "metadata": {},
   "source": [
    "## Maximums\n",
    "If you want to calculate the maximum of a function, we would just pass \"lambda x: -f(x[0])\" to the minimizer."
   ]
  },
  {
   "cell_type": "markdown",
   "metadata": {},
   "source": [
    "Suppose that you face a demand function like\n",
    "$$\n",
    "        X = \\alpha - \\beta P,\n",
    "$$\n",
    "where \\(\\alpha=10\\), \\(\\beta = \\)\n"
   ]
  },
  {
   "cell_type": "code",
   "execution_count": null,
   "metadata": {},
   "outputs": [],
   "source": []
  }
 ],
 "metadata": {
  "kernelspec": {
   "display_name": "Python 3",
   "language": "python",
   "name": "python3"
  },
  "language_info": {
   "codemirror_mode": {
    "name": "ipython",
    "version": 3
   },
   "file_extension": ".py",
   "mimetype": "text/x-python",
   "name": "python",
   "nbconvert_exporter": "python",
   "pygments_lexer": "ipython3",
   "version": "3.8.3"
  }
 },
 "nbformat": 4,
 "nbformat_minor": 2
}
